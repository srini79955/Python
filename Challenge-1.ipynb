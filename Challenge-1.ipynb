{
 "cells": [
  {
   "cell_type": "markdown",
   "id": "5d7e2f42",
   "metadata": {},
   "source": [
    "1. Create a program that displays your name and complete mailing address formatted in the manner that you would usually see it on the outside of an envelope. Your program does not need to read any input from the user."
   ]
  },
  {
   "cell_type": "code",
   "execution_count": 2,
   "id": "2e7bd86c",
   "metadata": {},
   "outputs": [
    {
     "name": "stdout",
     "output_type": "stream",
     "text": [
      "Name : Srinivasa Reddy Akkala\n",
      "S/O : Nagireddy\n",
      "Address : M S Palem,\n",
      "         Bellamkonda\n",
      "         Guntur\n",
      "         Andhra Pradesh.\n"
     ]
    }
   ],
   "source": [
    "a = 'Srinivasa Reddy Akkala'\n",
    "b = 'Nagireddy'\n",
    "add = '''M S Palem,\n",
    "         Bellamkonda\n",
    "         Guntur\n",
    "         Andhra Pradesh.'''\n",
    "\n",
    "print('Name :',a)\n",
    "print('S/O :',b)\n",
    "print('Address :',add)"
   ]
  },
  {
   "cell_type": "markdown",
   "id": "85bc8b0b",
   "metadata": {},
   "source": [
    "2. Write a program that asks the user to enter his or her name. The program should respond with a message that says hello to the user, using his or her name."
   ]
  },
  {
   "cell_type": "code",
   "execution_count": 3,
   "id": "e335fdf2",
   "metadata": {},
   "outputs": [
    {
     "name": "stdout",
     "output_type": "stream",
     "text": [
      "Enter your name :Srinivas\n",
      "Hello  Srinivas\n"
     ]
    }
   ],
   "source": [
    "name = input('Enter your name :')\n",
    "\n",
    "print('Hello ',name)"
   ]
  },
  {
   "cell_type": "markdown",
   "id": "3dbdf555",
   "metadata": {},
   "source": [
    "3. Write a program that accepts radius (datatype : float) of a circle from the user. Calculate and display the area and circumference of the circle"
   ]
  },
  {
   "cell_type": "code",
   "execution_count": 4,
   "id": "d1e51005",
   "metadata": {},
   "outputs": [
    {
     "name": "stdout",
     "output_type": "stream",
     "text": [
      "Enter the radius of circle :4.26\n",
      "Area of the circle = 56.983464\n",
      "Circumfearence of circle = 26.7528\n"
     ]
    }
   ],
   "source": [
    "r = float(input('Enter the radius of circle :'))\n",
    "\n",
    "a = 3.14*r*r\n",
    "\n",
    "c = 2*3.14*r\n",
    "\n",
    "print('Area of the circle =',a)\n",
    "\n",
    "print('Circumfearence of circle =',c)"
   ]
  },
  {
   "cell_type": "markdown",
   "id": "d5f9bdd1",
   "metadata": {},
   "source": [
    "4. Write a program that accepts length and breadth (both float) of a rectangle from the user. Calculate and display the area and perimeter of the rectangle."
   ]
  },
  {
   "cell_type": "code",
   "execution_count": 5,
   "id": "3eb519eb",
   "metadata": {},
   "outputs": [
    {
     "name": "stdout",
     "output_type": "stream",
     "text": [
      "Enter the length of the rectangle :4.65\n",
      "Enter the breadth of the rectangle :3.04\n",
      "Area of the rectangle = 14.136000000000001\n",
      "Perimeter of the rectangle = 15.38\n"
     ]
    }
   ],
   "source": [
    "l = float(input('Enter the length of the rectangle :'))\n",
    "\n",
    "b = float(input('Enter the breadth of the rectangle :'))\n",
    "\n",
    "a = l * b\n",
    "\n",
    "p = 2 * (l+b)\n",
    "\n",
    "print('Area of the rectangle =',a)\n",
    "\n",
    "print('Perimeter of the rectangle =',p)"
   ]
  },
  {
   "cell_type": "markdown",
   "id": "bed6dfcf",
   "metadata": {},
   "source": [
    "5. Write a program to accept the side (datatype : float) of a square from the user. Calculate and display the area and perimeter of the square."
   ]
  },
  {
   "cell_type": "code",
   "execution_count": 7,
   "id": "817dbbea",
   "metadata": {},
   "outputs": [
    {
     "name": "stdout",
     "output_type": "stream",
     "text": [
      "Enter the side of the square :5\n",
      "Area of the square = 25.0\n",
      "Perimeter of the square = 20.0\n"
     ]
    }
   ],
   "source": [
    "s = float(input('Enter the side of the square :'))\n",
    "\n",
    "a = s**2 \n",
    "\n",
    "p = 4*s\n",
    "\n",
    "print('Area of the square =',a)\n",
    "\n",
    "print('Perimeter of the square =',p)"
   ]
  },
  {
   "cell_type": "markdown",
   "id": "b783ce7d",
   "metadata": {},
   "source": [
    "6. Write a program to accept the temperature (datatype : float) in Fahrenheit and convert it into Centigrade. Modify the program to accept the temperature in Centigrade and convert it into Fahrenheit"
   ]
  },
  {
   "cell_type": "code",
   "execution_count": 12,
   "id": "7c912dc1",
   "metadata": {},
   "outputs": [
    {
     "name": "stdout",
     "output_type": "stream",
     "text": [
      "Enter the temparature in Fahrenhet :1\n",
      "if 1.0 is converted to Centigrade = -17.22222222222222\n",
      "Enter the temparature in Centigrade :1\n",
      "if 1.0 is converted to Fahrenhet = 33.8\n"
     ]
    }
   ],
   "source": [
    "fa = float(input('Enter the temparature in Fahrenhet :'))\n",
    "\n",
    "c = (fa-32)*(5/9)\n",
    "\n",
    "print('if',fa,'is converted to Centigrade =',c)\n",
    "\n",
    "cen = float(input('Enter the temparature in Centigrade :'))\n",
    "\n",
    "f = (cen*(9/5))+32\n",
    "\n",
    "print('if',cen,'is converted to Fahrenhet =',f)"
   ]
  },
  {
   "cell_type": "markdown",
   "id": "da5a51eb",
   "metadata": {},
   "source": [
    "7. Write a program to accept two complex numbers. Perform addition, subtraction and multiplication of these numbers an display the results to the user."
   ]
  },
  {
   "cell_type": "code",
   "execution_count": 13,
   "id": "282a5ed7",
   "metadata": {},
   "outputs": [
    {
     "name": "stdout",
     "output_type": "stream",
     "text": [
      "Enter the first complex number :4+5j\n",
      "Enter the second complex number :6-3j\n",
      "The addition of two complex numbers is = (10+2j)\n",
      "The subtraction of two complex numbers is = (-2+8j)\n",
      "The multiplication of two complex numbers is = (39+18j)\n"
     ]
    }
   ],
   "source": [
    "a = complex(input('Enter the first complex number :'))\n",
    "\n",
    "b = complex (input('Enter the second complex number :'))\n",
    "\n",
    "print('The addition of two complex numbers is =',a+b)\n",
    "\n",
    "print('The subtraction of two complex numbers is =',a-b)\n",
    "\n",
    "print('The multiplication of two complex numbers is =',a*b)"
   ]
  },
  {
   "cell_type": "markdown",
   "id": "3c6a7ddb",
   "metadata": {},
   "source": [
    "8. Write a program to accept the name and basic salary (datatype : float) of an employee. Calculate the dearness allowance as 40 % of basic and house rent allowance as 20 % of basic. Display the gross salary to the user. (Hint: gross salary = basic salary + dearness allowance + house rent allowance)."
   ]
  },
  {
   "cell_type": "code",
   "execution_count": 14,
   "id": "a0ec8d07",
   "metadata": {},
   "outputs": [
    {
     "name": "stdout",
     "output_type": "stream",
     "text": [
      "Enter the name of Employee :Srinivas\n",
      "Enter the basic salary of the employee :450000\n",
      "The dearness allowance of the employee = 180000.0\n",
      "House rent allowance of the employee = 90000.0\n",
      "gross salary of employee Srinivas = 720000.0\n"
     ]
    }
   ],
   "source": [
    "name = input('Enter the name of Employee :')\n",
    "\n",
    "basic = float(input('Enter the basic salary of the employee :'))\n",
    "\n",
    "d = basic *(40/100)\n",
    "\n",
    "h = basic*(20/100)\n",
    "\n",
    "print('The dearness allowance of the employee =',d)\n",
    "\n",
    "print('House rent allowance of the employee =',h)\n",
    "\n",
    "print('gross salary of employee',name,'=',basic+d+h)"
   ]
  },
  {
   "cell_type": "markdown",
   "id": "4092303e",
   "metadata": {},
   "source": [
    "9. Write a program that reads a positive integer, n, from the user and then displays the sum of all of the integers from 1 to n. The sum of the first n positive integers can be computed using the formula: sum = (n)(n + 1)/ 2."
   ]
  },
  {
   "cell_type": "code",
   "execution_count": 15,
   "id": "a0c85606",
   "metadata": {},
   "outputs": [
    {
     "name": "stdout",
     "output_type": "stream",
     "text": [
      "Enter a positive integer :10\n",
      "The sum of all of the integers from 1 to 10 = 55.0\n"
     ]
    }
   ],
   "source": [
    "n = int(input('Enter a positive integer :'))\n",
    "\n",
    "su = (n*(n+1))/2\n",
    "\n",
    "print('The sum of all of the integers from 1 to',n,'=',su)"
   ]
  },
  {
   "cell_type": "markdown",
   "id": "cb62ec9d",
   "metadata": {},
   "source": [
    "10. Create a program that reads two integers, a and b, from the user. Your program should compute and display:\n",
    "\n",
    "The sum of a and b\n",
    "\n",
    "The difference when b is subtracted from a\n",
    "\n",
    "The product of a and b\n",
    "\n",
    "The quotient when a is divided by b\n",
    "\n",
    "The remainder when a is divided by b\n",
    "\n",
    "The result of ab"
   ]
  },
  {
   "cell_type": "code",
   "execution_count": 17,
   "id": "ada45a4e",
   "metadata": {},
   "outputs": [
    {
     "name": "stdout",
     "output_type": "stream",
     "text": [
      "Enter the first integer :5\n",
      "Enter the second integer :2\n",
      "The sum of 5 and 2 = 7\n",
      "The difference when 2 is subtracted from 5 = 3\n",
      "The product of 5 and 2 = 10\n",
      "The quotient when 5 is divided by 2 = 2.5\n",
      "The remainder when 5  is divided by 2 = 1\n",
      "The result of 5 power of 2 = 25\n"
     ]
    }
   ],
   "source": [
    "a = int(input('Enter the first integer :'))\n",
    "\n",
    "b = int(input('Enter the second integer :'))\n",
    "\n",
    "print('The sum of',a,'and',b,'=',a+b)\n",
    "\n",
    "print('The difference when',b,'is subtracted from',a,'=',a-b)\n",
    "\n",
    "print('The product of',a,'and',b,'=',a*b)\n",
    "\n",
    "print('The quotient when', a,'is divided by', b,'=',a/b)\n",
    "\n",
    "print('The remainder when', a,' is divided by', b,'=',a%b)\n",
    "\n",
    "print('The result of',a,'power of',b,'=',a**b)"
   ]
  },
  {
   "cell_type": "code",
   "execution_count": null,
   "id": "da69a846",
   "metadata": {},
   "outputs": [],
   "source": []
  }
 ],
 "metadata": {
  "kernelspec": {
   "display_name": "Python 3 (ipykernel)",
   "language": "python",
   "name": "python3"
  },
  "language_info": {
   "codemirror_mode": {
    "name": "ipython",
    "version": 3
   },
   "file_extension": ".py",
   "mimetype": "text/x-python",
   "name": "python",
   "nbconvert_exporter": "python",
   "pygments_lexer": "ipython3",
   "version": "3.9.13"
  }
 },
 "nbformat": 4,
 "nbformat_minor": 5
}
