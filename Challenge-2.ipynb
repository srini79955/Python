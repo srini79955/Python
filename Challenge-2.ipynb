{
 "cells": [
  {
   "cell_type": "markdown",
   "id": "50cfd477",
   "metadata": {},
   "source": [
    "1. Demonstrate how to create simple and multi-line strings, and check whether a string can change after its creation."
   ]
  },
  {
   "cell_type": "markdown",
   "id": "e987416c",
   "metadata": {},
   "source": [
    "Single line strings are created by using  ' ' or \" \"\n",
    "\n",
    "Multiple line strings can be created by using  ''' ''' or \"\"\" \"\"\" "
   ]
  },
  {
   "cell_type": "code",
   "execution_count": 1,
   "id": "f14d8993",
   "metadata": {},
   "outputs": [
    {
     "ename": "TypeError",
     "evalue": "'str' object does not support item assignment",
     "output_type": "error",
     "traceback": [
      "\u001b[1;31m---------------------------------------------------------------------------\u001b[0m",
      "\u001b[1;31mTypeError\u001b[0m                                 Traceback (most recent call last)",
      "\u001b[1;32m~\\AppData\\Local\\Temp\\ipykernel_8324\\3418652010.py\u001b[0m in \u001b[0;36m<module>\u001b[1;34m\u001b[0m\n\u001b[0;32m      1\u001b[0m \u001b[0ms\u001b[0m \u001b[1;33m=\u001b[0m \u001b[1;34m'Srinivasa Reddy'\u001b[0m\u001b[1;33m\u001b[0m\u001b[1;33m\u001b[0m\u001b[0m\n\u001b[0;32m      2\u001b[0m \u001b[1;33m\u001b[0m\u001b[0m\n\u001b[1;32m----> 3\u001b[1;33m \u001b[0ms\u001b[0m\u001b[1;33m[\u001b[0m\u001b[1;36m1\u001b[0m\u001b[1;33m]\u001b[0m\u001b[1;33m=\u001b[0m \u001b[1;34m'Asr'\u001b[0m\u001b[1;33m\u001b[0m\u001b[1;33m\u001b[0m\u001b[0m\n\u001b[0m",
      "\u001b[1;31mTypeError\u001b[0m: 'str' object does not support item assignment"
     ]
    }
   ],
   "source": [
    "s = 'Srinivasa Reddy'\n",
    "\n",
    "s[1]= 'Asr'"
   ]
  },
  {
   "cell_type": "markdown",
   "id": "d2764358",
   "metadata": {},
   "source": [
    "So, it is clearly shows that object assignment is not possible in strings"
   ]
  },
  {
   "cell_type": "markdown",
   "id": "5003f5e8",
   "metadata": {},
   "source": [
    "2. For a given string ‘Hello World!’, extract the following:\n",
    "\n",
    "H W\n",
    "\n",
    "o o\n",
    "\n",
    "llorld\n",
    "\n",
    "!dlroW olleH\n",
    "\n",
    "World!\n",
    "\n",
    "Hello"
   ]
  },
  {
   "cell_type": "code",
   "execution_count": 7,
   "id": "a4ea22b7",
   "metadata": {},
   "outputs": [
    {
     "name": "stdout",
     "output_type": "stream",
     "text": [
      "H W\n",
      " \n",
      "o o\n",
      " \n",
      "llorld\n",
      " \n",
      "!dlroW olleH\n",
      " \n",
      "World!\n",
      "Hello\n"
     ]
    }
   ],
   "source": [
    "a = 'Hello World!'\n",
    "\n",
    "print(a[0],a[6])\n",
    "print(' ')\n",
    "print(a[4],a[7])\n",
    "print(' ')\n",
    "print(a[2:4]+a[7:-1])\n",
    "print(' ')\n",
    "print(a[::-1])\n",
    "print(' ')\n",
    "print(a[6:])\n",
    "print(a[:5])"
   ]
  },
  {
   "cell_type": "markdown",
   "id": "2842bbf4",
   "metadata": {},
   "source": [
    "3. For the following strings, determine which contain only alphabets, only digits, alphanumeric, which are in lowercase, and which are in uppercase. Also check whether str3 begins or ends with the word “Now”.\n",
    "\n",
    "Str1 = ‘Welcome’\n",
    "\n",
    "Str2 = ‘Hello World!’\n",
    "\n",
    "Str3 = ‘Now is the best time ever! ‘\n",
    "\n",
    "Str4 = ‘500017’\n",
    "\n",
    "Str5 = ‘IPhone 6’"
   ]
  },
  {
   "cell_type": "code",
   "execution_count": 22,
   "id": "d5c4c4ea",
   "metadata": {},
   "outputs": [
    {
     "name": "stdout",
     "output_type": "stream",
     "text": [
      "welcome is containing alphabets,and which are in lower case \n"
     ]
    }
   ],
   "source": [
    "str1 = 'welcome'\n",
    "\n",
    "if str1.isalpha():\n",
    "    print(str1,'is containing alphabets',end=',')\n",
    "    if str1.islower():\n",
    "        print('and which are in lower case ')\n",
    "    elif str1.isupper():\n",
    "        print('and which are in upper case')\n",
    "elif str1.isdigit():\n",
    "    print(str1,'is containing digits')\n",
    "elif str1.isalnum():\n",
    "    print(str1,'is contain alphanumerics')\n",
    "else:\n",
    "    print(str1,'does not contain alphabates, digits and alphanumerics')"
   ]
  },
  {
   "cell_type": "code",
   "execution_count": 14,
   "id": "3ada089f",
   "metadata": {},
   "outputs": [
    {
     "name": "stdout",
     "output_type": "stream",
     "text": [
      "Hello World! does not contain alphabates, digits and alphanumerics\n"
     ]
    }
   ],
   "source": [
    "str2 = 'Hello World!'\n",
    "\n",
    "if str2.isalpha():\n",
    "    print(str2,'is containing alphabets')\n",
    "    if str2.islower():\n",
    "        print('and which are in lower case ')\n",
    "    elif str2.isupper():\n",
    "        print('and which are in upper case')\n",
    "elif str2.isdigit():\n",
    "    print(str2,'is containing digits')\n",
    "elif str2.isalnum():\n",
    "    print(str2,'is contain alphanumerics')\n",
    "else:\n",
    "    print(str2,'does not contain alphabates, digits and alphanumerics')"
   ]
  },
  {
   "cell_type": "code",
   "execution_count": 26,
   "id": "ae062727",
   "metadata": {},
   "outputs": [
    {
     "name": "stdout",
     "output_type": "stream",
     "text": [
      "Now is the best time ever! does not contain alphabates, digits and alphanumerics,and is starts with Now\n"
     ]
    }
   ],
   "source": [
    "str3 = 'Now is the best time ever!'\n",
    "\n",
    "if str3.isalpha():\n",
    "    print(str3,'is containing alphabets',end=',')\n",
    "    if str3.islower():\n",
    "        print('and which are in lower case ')\n",
    "    elif str3.isupper():\n",
    "        print('and which are in upper case')\n",
    "elif str3.isdigit():\n",
    "    print(str2,'is containing digits')\n",
    "elif str3.isalnum():\n",
    "    print(str3,'is contain alphanumerics')    \n",
    "else:\n",
    "    print(str3,'does not contain alphabates, digits and alphanumerics',end=',')\n",
    "    \n",
    "if str3.startswith('Now'):\n",
    "    print('and is starts with Now')\n",
    "elif str3.endswith('Now'):\n",
    "    print('and is ends with Now')"
   ]
  },
  {
   "cell_type": "code",
   "execution_count": 17,
   "id": "72fd48b7",
   "metadata": {},
   "outputs": [
    {
     "name": "stdout",
     "output_type": "stream",
     "text": [
      "500017 is containing digits\n"
     ]
    }
   ],
   "source": [
    "str4 = '500017'\n",
    "\n",
    "if str4.isalpha():\n",
    "    print(str4,'is containing alphabets')\n",
    "    if str4.islower():\n",
    "        print('and which are in lower case ')\n",
    "    elif str4.isupper():\n",
    "        print('and which are in upper case')\n",
    "elif str4.isdigit():\n",
    "    print(str4,'is containing digits')\n",
    "elif str4.isalnum():\n",
    "    print(str4,'is contain alphanumerics')\n",
    "else:\n",
    "    print(str4,'does not contain alphabates, digits and alphanumerics')"
   ]
  },
  {
   "cell_type": "code",
   "execution_count": 19,
   "id": "a857fa15",
   "metadata": {},
   "outputs": [
    {
     "name": "stdout",
     "output_type": "stream",
     "text": [
      "IPhone6 is contain alphanumerics\n"
     ]
    }
   ],
   "source": [
    "str5 = 'IPhone6'\n",
    "\n",
    "if str5.isalpha():\n",
    "    print(str5,'is containing alphabets')\n",
    "    if str5.islower():\n",
    "        print('and which are in lower case ')\n",
    "    elif str5.isupper():\n",
    "        print('and which are in upper case')\n",
    "elif str5.isdigit():\n",
    "    print(str5,'is containing digits')\n",
    "elif str5.isalnum():\n",
    "    print(str5,'is contain alphanumerics')\n",
    "else:\n",
    "    print(str5,'does not contain alphabates, digits and alphanumerics')"
   ]
  },
  {
   "cell_type": "markdown",
   "id": "5f58ec24",
   "metadata": {},
   "source": [
    "4. Accept a sentence from the user. Convert the case of the input into title case."
   ]
  },
  {
   "cell_type": "code",
   "execution_count": 27,
   "id": "06751049",
   "metadata": {},
   "outputs": [
    {
     "name": "stdout",
     "output_type": "stream",
     "text": [
      "Enter a sentence :a im very happy\n",
      "A Im Very Happy\n"
     ]
    }
   ],
   "source": [
    "a= input('Enter a sentence :')\n",
    "\n",
    "print(a.title())"
   ]
  },
  {
   "cell_type": "markdown",
   "id": "485e4393",
   "metadata": {},
   "source": [
    "5. Write a program that reads an integer from the user. Then your program should display a message indicating whether the integer is even or odd."
   ]
  },
  {
   "cell_type": "code",
   "execution_count": 30,
   "id": "45b985f6",
   "metadata": {},
   "outputs": [
    {
     "name": "stdout",
     "output_type": "stream",
     "text": [
      "Enter an integer :9\n",
      "9 is odd number\n"
     ]
    }
   ],
   "source": [
    "n = int(input('Enter an integer :'))\n",
    "\n",
    "if n % 2 == 0:\n",
    "    print(n,'is even number')\n",
    "else:\n",
    "    print(n,'is odd number')"
   ]
  },
  {
   "cell_type": "markdown",
   "id": "3e9f735e",
   "metadata": {},
   "source": [
    "6. Create a program that reads a letter of the alphabet from the user. If the user enters a, e, i, o or u then your program should display a message indicating that the entered letter is a vowel. Otherwise, the program should display a message that the entered letter is a consonant"
   ]
  },
  {
   "cell_type": "code",
   "execution_count": 33,
   "id": "93624bed",
   "metadata": {},
   "outputs": [
    {
     "name": "stdout",
     "output_type": "stream",
     "text": [
      "Enter a letter :z\n",
      "The entered letter is consonant\n"
     ]
    }
   ],
   "source": [
    "l = input('Enter a letter :')\n",
    "\n",
    "if l=='a' or l=='e' or l=='i' or l=='o' or l=='u':\n",
    "    print('The entered letter is a vowel')\n",
    "else:\n",
    "    print('The entered letter is consonant')"
   ]
  },
  {
   "cell_type": "markdown",
   "id": "c631cb76",
   "metadata": {},
   "source": [
    "7. The length of a month varies from 28 to 31 days. Create a program that reads the name of a month from the user as a string. Then your program should display the number of days in that month. Display “28 or 29 days” for February so that leap years is addressed."
   ]
  },
  {
   "cell_type": "code",
   "execution_count": 35,
   "id": "45e6f1b9",
   "metadata": {},
   "outputs": [
    {
     "name": "stdout",
     "output_type": "stream",
     "text": [
      "Enter the name of the month :May\n",
      "The number of days in May = 31\n"
     ]
    }
   ],
   "source": [
    "m = input('Enter the name of the month :')\n",
    "\n",
    "if m=='January' or m=='March' or m=='May' or m=='July' or m=='August' or m=='October' or m=='December':\n",
    "    print('The number of days in',m,'= 31')\n",
    "elif m == 'February':\n",
    "          print('The number of days in ',m,'is = 28 or 29')\n",
    "elif m=='April' or m=='June' or m==' September' or m=='November':\n",
    "          print('The number of days in ',m,'is = 30')\n",
    "else:\n",
    "    print('Wrong input')"
   ]
  },
  {
   "cell_type": "markdown",
   "id": "60f53c31",
   "metadata": {},
   "source": [
    "8. A triangle can be classified based on the lengths of its sides as equilateral, isosceles or scalene. All 3 sides of an equilateral triangle have the same length. An isosceles triangle has two sides that are the same length, and a third side that is a different length. If all of the sides have different lengths then the triangle is scalene. Write a program that reads the lengths of 3 sides of a triangle from the user. Display a message indicating the type of the triangle."
   ]
  },
  {
   "cell_type": "code",
   "execution_count": 41,
   "id": "4ccc1261",
   "metadata": {},
   "outputs": [
    {
     "name": "stdout",
     "output_type": "stream",
     "text": [
      "Enter 1st side of triangle :1\n",
      "Enter 2nd side of triangle :2\n",
      "Enter 3rd side of triangle :3\n",
      "scalene triangle\n"
     ]
    }
   ],
   "source": [
    "a = float(input('Enter 1st side of triangle :'))\n",
    "\n",
    "b = float(input('Enter 2nd side of triangle :'))\n",
    "\n",
    "c = float(input('Enter 3rd side of triangle :'))\n",
    "\n",
    "if a==b==c:\n",
    "    print('equilateral triangle')\n",
    "elif a==b or b==c or c==a:\n",
    "    print('isosceles triangle')\n",
    "else:\n",
    "    print('scalene triangle')"
   ]
  },
  {
   "cell_type": "markdown",
   "id": "61f37fc6",
   "metadata": {},
   "source": [
    "9. The rules for determining whether or not a year is a leap year follow: \n",
    "\n",
    "Any year that is divisible by 400 is a leap year.\n",
    "\n",
    "Of the remaining years, any year that is divisible by 100 is not a leap year.\n",
    "\n",
    "Of the remaining years, any year that is divisible by 4 is a leap year.\n",
    "\n",
    "All other years are not leap years."
   ]
  },
  {
   "cell_type": "code",
   "execution_count": 6,
   "id": "61431efc",
   "metadata": {},
   "outputs": [
    {
     "name": "stdout",
     "output_type": "stream",
     "text": [
      "Enter any year :1996\n",
      "1996 is a leap year\n"
     ]
    }
   ],
   "source": [
    "y = int(input('Enter any year :'))\n",
    "\n",
    "if y % 400 == 0:\n",
    "    print(y, 'is a leap year')\n",
    "elif y % 100 == 0:\n",
    "    print(y, 'is not a leap year')\n",
    "elif y % 4 == 0:\n",
    "    print(y,'is a leap year')\n",
    "else:\n",
    "    print(y,'is not leap year')"
   ]
  },
  {
   "cell_type": "markdown",
   "id": "2f64f758",
   "metadata": {},
   "source": [
    "10. Write a program that computes the real roots of a quadratic function. Your program should begin by prompting the user for the values of a, b and c. Then it should display a message indicating the number of real roots, along with the values of the real roots (if any)."
   ]
  },
  {
   "cell_type": "code",
   "execution_count": 45,
   "id": "53c70c95",
   "metadata": {},
   "outputs": [
    {
     "name": "stdout",
     "output_type": "stream",
     "text": [
      "a =3\n",
      "b =4\n",
      "c =5\n",
      "d = -44\n",
      "The roots are not real and may be imaginary\n",
      "root 1 = (-0.6666666666666666+1.1055415967851332j)\n",
      "root 2 = (-0.6666666666666666-1.1055415967851332j)\n"
     ]
    }
   ],
   "source": [
    "a=int(input('a ='))\n",
    "\n",
    "b=int(input('b ='))\n",
    "\n",
    "c=int(input('c ='))\n",
    "\n",
    "d=(b ** 2 - 4 * a * c)\n",
    "\n",
    "print('d =',d)\n",
    "\n",
    "if a != 0:\n",
    "    if d > 0:\n",
    "        print('The two roots are real and distinct')\n",
    "        \n",
    "        print('root 1 =',(-b +d ** 0.5) / (2 * a))\n",
    "        \n",
    "        print('root 2 =',(-b -d ** 0.5) / (2 * a))\n",
    "    elif d == 0:\n",
    "        print('Two roots are real and equal')\n",
    "        \n",
    "        print('roots =',-b/(2*a))\n",
    "    else:\n",
    "        print('The roots are not real and may be imaginary')\n",
    "        \n",
    "        print('root 1 =',(-b +d ** 0.5) / (2 * a))\n",
    "        \n",
    "        print('root 2 =',(-b -d ** 0.5) / (2 * a))\n",
    "        \n",
    "else:\n",
    "    print('a must be non-zero to compute real roots of quadratic eqaution')"
   ]
  },
  {
   "cell_type": "code",
   "execution_count": null,
   "id": "9377d3f6",
   "metadata": {},
   "outputs": [],
   "source": []
  }
 ],
 "metadata": {
  "kernelspec": {
   "display_name": "Python 3 (ipykernel)",
   "language": "python",
   "name": "python3"
  },
  "language_info": {
   "codemirror_mode": {
    "name": "ipython",
    "version": 3
   },
   "file_extension": ".py",
   "mimetype": "text/x-python",
   "name": "python",
   "nbconvert_exporter": "python",
   "pygments_lexer": "ipython3",
   "version": "3.9.13"
  }
 },
 "nbformat": 4,
 "nbformat_minor": 5
}
