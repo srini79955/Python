{
 "cells": [
  {
   "cell_type": "markdown",
   "id": "ca875d43",
   "metadata": {},
   "source": [
    "1. A set contains names which begin either with A or with B. Write a program to separate the names into two sets, one containing names beginning with A and the other containing names beginning with B"
   ]
  },
  {
   "cell_type": "code",
   "execution_count": 3,
   "id": "24eec7c0",
   "metadata": {},
   "outputs": [
    {
     "name": "stdout",
     "output_type": "stream",
     "text": [
      "Names :  {'Champ', 'Apple', 'Darsh', 'Alli', 'Almond', 'Basha', 'Pista', 'Banana', 'Babay', 'Anna', 'Badam'}\n",
      "Names starts with A :  {'Anna', 'Almond', 'Alli', 'Apple'}\n",
      "Names startswith B :  {'Basha', 'Babay', 'Banana', 'Badam'}\n"
     ]
    }
   ],
   "source": [
    "names = {'Apple', 'Banana', 'Anna', 'Babay','Champ','Alli','Basha','Darsh','Almond','Badam','Pista'}\n",
    "\n",
    "a = set()\n",
    "\n",
    "b = set()\n",
    "\n",
    "for i in names:\n",
    "    if i.startswith('A'):\n",
    "        a.add(i)\n",
    "    elif i.startswith('B'):\n",
    "        b.add(i) \n",
    "        \n",
    "print('Names : ',names)\n",
    "\n",
    "print('Names starts with A : ',a)\n",
    "\n",
    "print('Names startswith B : ',b)"
   ]
  },
  {
   "cell_type": "markdown",
   "id": "6c46d549",
   "metadata": {},
   "source": [
    "2. Create a list of tuples. Each tuple should contain an item and its price in float. Write a program to print each item and its price in a proper format"
   ]
  },
  {
   "cell_type": "code",
   "execution_count": 4,
   "id": "3cca00ee",
   "metadata": {},
   "outputs": [
    {
     "name": "stdout",
     "output_type": "stream",
     "text": [
      "Shirt cost 1999.99\n",
      "Trouser cost 1499.99\n",
      "Cap cost 499.99\n",
      "Shoes cost 1299.99\n"
     ]
    }
   ],
   "source": [
    "x = [('Shirt',1999.99),('Trouser',1499.99),('Cap',499.99),('Shoes',1299.99)]\n",
    "\n",
    "y = dict(x)\n",
    "\n",
    "#print(y)\n",
    "\n",
    "for i in y:\n",
    "    print(i,'cost',y[i])"
   ]
  },
  {
   "cell_type": "markdown",
   "id": "b4513689",
   "metadata": {},
   "source": [
    "3. Write a program that reads integers from the user and stores them in a list. Your program should continue reading values until the user enters 0. Then it should display all of the values entered by the user (except for the 0) in order from smallest to largest, with one value appearing on each line. Use either the sort method or the sorted function to sort the list."
   ]
  },
  {
   "cell_type": "code",
   "execution_count": 5,
   "id": "24cbdd4d",
   "metadata": {},
   "outputs": [
    {
     "name": "stdout",
     "output_type": "stream",
     "text": [
      "Enter list of numbers, zero for exit :6\n",
      "Enter list of numbers, zero for exit :7\n",
      "Enter list of numbers, zero for exit :8\n",
      "Enter list of numbers, zero for exit :9\n",
      "Enter list of numbers, zero for exit :-2\n",
      "Enter list of numbers, zero for exit :-3\n",
      "Enter list of numbers, zero for exit :-4\n",
      "Enter list of numbers, zero for exit :0\n",
      "list of values [6, 7, 8, 9, -2, -3, -4]\n",
      "-4\n",
      "-3\n",
      "-2\n",
      "6\n",
      "7\n",
      "8\n",
      "9\n"
     ]
    }
   ],
   "source": [
    "l = []\n",
    "\n",
    "while True:\n",
    "    num = int(input('Enter list of numbers, zero for exit :'))\n",
    "    if num == 0:\n",
    "        break\n",
    "    else:\n",
    "        l.append(num)\n",
    "        \n",
    "print('list of values',l)\n",
    "\n",
    "l.sort()\n",
    "\n",
    "for i in l:\n",
    "    print(i)"
   ]
  },
  {
   "cell_type": "markdown",
   "id": "aecbd3b5",
   "metadata": {},
   "source": [
    "4. Write a program to read a list of numbers from the user and remove the two largest and two smallest values from it. Display the list with the values removed, followed by the original list. Your program should generate an appropriate error message if the user enters less than 5 values."
   ]
  },
  {
   "cell_type": "code",
   "execution_count": 10,
   "id": "1fa57113",
   "metadata": {},
   "outputs": [
    {
     "name": "stdout",
     "output_type": "stream",
     "text": [
      "Enter total number of list of values :5\n",
      "Enter the list of numbers :1\n",
      "Enter the list of numbers :2\n",
      "Enter the list of numbers :3\n",
      "Enter the list of numbers :4\n",
      "Enter the list of numbers :5\n",
      "The original list : [1, 2, 3, 4, 5]\n",
      "list with the values removed [3]\n"
     ]
    }
   ],
   "source": [
    "l = []\n",
    "\n",
    "n = int(input('Enter total number of list of values :'))\n",
    "\n",
    "if n >= 5:\n",
    "    for i in range(n):\n",
    "        num = int(input('Enter the list of numbers :'))\n",
    "        l.append(num)\n",
    "    l.sort()\n",
    "    print('The original list :',l)\n",
    "    \n",
    "    for j in range(2):\n",
    "        l.remove(max(l))\n",
    "        l.remove(min(l))\n",
    "    print('list with the values removed',l)\n",
    "else:\n",
    "    print('Total number of values in list must be greterthan 4')"
   ]
  },
  {
   "cell_type": "markdown",
   "id": "e9d49b10",
   "metadata": {},
   "source": [
    "5. In this exercise, you will create a program that reads words from the user until the user enters a blank line. After the user enters a blank line your program should display each word entered by the user exactly once."
   ]
  },
  {
   "cell_type": "code",
   "execution_count": 5,
   "id": "d14728a6",
   "metadata": {},
   "outputs": [
    {
     "name": "stdout",
     "output_type": "stream",
     "text": [
      "Enter the word to create list, and blank to exit from list:hello\n",
      "Enter the word to create list, and blank to exit from list:welcome \n",
      "Enter the word to create list, and blank to exit from list:to\n",
      "Enter the word to create list, and blank to exit from list:python\n",
      "Enter the word to create list, and blank to exit from list:world\n",
      "Enter the word to create list, and blank to exit from list: \n",
      "['hello', 'welcome ', 'to', 'python', 'world']\n",
      "hello\n",
      "welcome \n",
      "to\n",
      "python\n",
      "world\n"
     ]
    }
   ],
   "source": [
    "l1 = []\n",
    "\n",
    "\n",
    "while True:\n",
    "    word = input('Enter the word to create list, and blank to exit from list:')\n",
    "    if word == ' ':\n",
    "        break\n",
    "    else:\n",
    "        l1.append(word)\n",
    "        \n",
    "print(l1)\n",
    "        \n",
    "for i in l1:\n",
    "    print(i)"
   ]
  },
  {
   "cell_type": "markdown",
   "id": "f3451655",
   "metadata": {},
   "source": [
    "6. Write a program that reads numbers from the user until a 0 is entered. Your program should display the average of all of the values entered by the user. Then the program should display all of the below average values, followed by all of the average values (if any), followed by all of the above average values. An appropriate label should be displayed before each list of values."
   ]
  },
  {
   "cell_type": "code",
   "execution_count": 12,
   "id": "b9d9277e",
   "metadata": {},
   "outputs": [
    {
     "name": "stdout",
     "output_type": "stream",
     "text": [
      "Enter the numbers :1\n",
      "Enter the numbers :2\n",
      "Enter the numbers :3\n",
      "Enter the numbers :4\n",
      "Enter the numbers :5\n",
      "Enter the numbers :6\n",
      "Enter the numbers :7\n",
      "Enter the numbers :8\n",
      "Enter the numbers :9\n",
      "Enter the numbers :0\n",
      "list = [1, 2, 3, 4, 5, 6, 7, 8, 9]\n",
      "Average = 5.0\n",
      "All of the below average values list contain : [1, 2, 3, 4]\n",
      "All of the above average values list contain : [6, 7, 8, 9]\n",
      "All of the average values list containing : [5]\n"
     ]
    }
   ],
   "source": [
    "sum1 = 0\n",
    "\n",
    "l1 = []\n",
    "\n",
    "while True:\n",
    "    num = int(input('Enter the numbers :'))\n",
    "    if num != 0:\n",
    "        l1.append(num)\n",
    "        sum1 +=num\n",
    "    else:\n",
    "        break\n",
    "        \n",
    "avg = sum1/len(l1)\n",
    "\n",
    "print('list =',l1)\n",
    "\n",
    "print('Average =',avg)\n",
    "\n",
    "\n",
    "l2 =[]\n",
    "\n",
    "l3 = []\n",
    "\n",
    "l4 = []\n",
    "\n",
    "for i in l1:\n",
    "    if i < avg:\n",
    "        l2.append(i)\n",
    "    elif i > avg:\n",
    "        l3.append(i)\n",
    "    else:\n",
    "        l4.append(i)\n",
    "    \n",
    "print('All of the below average values list contain :',l2)\n",
    "\n",
    "print('All of the above average values list contain :',l3)\n",
    "\n",
    "print('All of the average values list containing :',l4)"
   ]
  },
  {
   "cell_type": "markdown",
   "id": "498d7f01",
   "metadata": {},
   "source": [
    "7. Create a program that determines and displays the number of unique characters in a string entered by the user. For example, Hello World! has 9 unique characters while zzz has only one unique character. Use a dictionary to solve this problem."
   ]
  },
  {
   "cell_type": "code",
   "execution_count": 8,
   "id": "172624db",
   "metadata": {},
   "outputs": [
    {
     "name": "stdout",
     "output_type": "stream",
     "text": [
      "Enter a sentencezzz\n",
      "the number of unique characters in a string = 1\n"
     ]
    }
   ],
   "source": [
    "w = input('Enter a sentence')\n",
    "\n",
    "w1 = set(w)\n",
    "\n",
    "print('the number of unique characters in a string =',len(w1))"
   ]
  },
  {
   "cell_type": "markdown",
   "id": "147f5079",
   "metadata": {},
   "source": [
    "8. Two words are anagrams if they contain all of the same letters, but in a different order. For example, “evil” and “live” are anagrams because each contains one e, one i, one l, and one v. Create a program that reads two strings from the user, determines whether or not they are anagrams, and reports the result."
   ]
  },
  {
   "cell_type": "code",
   "execution_count": 1,
   "id": "91b5655a",
   "metadata": {},
   "outputs": [
    {
     "name": "stdout",
     "output_type": "stream",
     "text": [
      "Enter string 1:asrt\n",
      "Enter string 2:star\n",
      "Entered words are anagram of each other.\n"
     ]
    }
   ],
   "source": [
    "a=input(\"Enter string 1:\")\n",
    "b=input(\"Enter string 2:\")\n",
    "count=0\n",
    "for i in a:\n",
    "    for j in b:\n",
    "        if i==j:\n",
    "            count=count+1\n",
    "if count==len(a):\n",
    "    print(\"Entered words are anagram of each other.\")\n",
    "else:\n",
    "    print(\"Entered words are not anagram of each other.\")"
   ]
  },
  {
   "cell_type": "markdown",
   "id": "4c5826ea",
   "metadata": {},
   "source": [
    "9. An integer, n, is said to be perfect when the sum of all of the proper divisors of n is equal to n. For example, 28 is a perfect number because its proper divisors are 1, 2, 4, 7 and 14, and 1 + 2 + 4 + 7 + 14 = 28. Write a program that determines whether or not a positive integer is perfect. Your program will accept a number from the user. If that number is a perfect number then your program will display true. Otherwise it will display false."
   ]
  },
  {
   "cell_type": "code",
   "execution_count": 19,
   "id": "659061b9",
   "metadata": {},
   "outputs": [
    {
     "name": "stdout",
     "output_type": "stream",
     "text": [
      "Enter the number to find whether it is perfect or not :28\n",
      "True\n"
     ]
    }
   ],
   "source": [
    "\n",
    "\n",
    "sum2 = 0\n",
    "\n",
    "l = []\n",
    "\n",
    "n = int(input('Enter the number to find whether it is perfect or not :'))\n",
    "\n",
    "if n > 0:\n",
    "    for i in range (1,n):\n",
    "        if n % i == 0:\n",
    "            l.append(i)\n",
    "            sum2 += i\n",
    "else:\n",
    "    print('Enter a positive number')\n",
    "    \n",
    "#print(l)\n",
    "\n",
    "#print(sum2)\n",
    "    \n",
    "    \n",
    "print(n == sum2)    "
   ]
  },
  {
   "cell_type": "markdown",
   "id": "695f9221",
   "metadata": {},
   "source": [
    "10. Write a program that finds all of the keys in a dictionary that map to a specific value. The program will take the value to search for as its input. It will display a (possibly empty) list of keys from the dictionary that map to the provided value."
   ]
  },
  {
   "cell_type": "code",
   "execution_count": 4,
   "id": "e3b8b72a",
   "metadata": {},
   "outputs": [
    {
     "name": "stdout",
     "output_type": "stream",
     "text": [
      "fruit : Banana\n",
      "sweet : Laddu\n",
      "Enter a value :Laddu\n",
      "sweet\n"
     ]
    }
   ],
   "source": [
    "cat = {'fruit' : 'Banana',\n",
    "      'sweet' : 'Laddu'}\n",
    "\n",
    "for i in cat:\n",
    "    print(i,':', cat[i])\n",
    "    \n",
    "value=input('Enter a value :')\n",
    "for i in cat:\n",
    "    if cat[i]==value:\n",
    "        print(i)"
   ]
  },
  {
   "cell_type": "code",
   "execution_count": null,
   "id": "790b4a03",
   "metadata": {},
   "outputs": [],
   "source": []
  }
 ],
 "metadata": {
  "kernelspec": {
   "display_name": "Python 3 (ipykernel)",
   "language": "python",
   "name": "python3"
  },
  "language_info": {
   "codemirror_mode": {
    "name": "ipython",
    "version": 3
   },
   "file_extension": ".py",
   "mimetype": "text/x-python",
   "name": "python",
   "nbconvert_exporter": "python",
   "pygments_lexer": "ipython3",
   "version": "3.9.13"
  }
 },
 "nbformat": 4,
 "nbformat_minor": 5
}
