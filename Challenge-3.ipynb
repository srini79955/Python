{
 "cells": [
  {
   "cell_type": "markdown",
   "id": "ca6cd694",
   "metadata": {},
   "source": [
    "1. Write a program to accept an integer n greater than 10. Then print all the odd numbers from 1 to n."
   ]
  },
  {
   "cell_type": "code",
   "execution_count": 7,
   "id": "f93efdaf",
   "metadata": {},
   "outputs": [
    {
     "name": "stdout",
     "output_type": "stream",
     "text": [
      "Enter a number that must be greater than 10 :21\n",
      "The odd numbers from 1 to 21:1 3 5 7 9 11 13 15 17 19 21 "
     ]
    }
   ],
   "source": [
    "n  = int(input('Enter a number that must be greater than 10 :'))\n",
    "\n",
    "print('The odd numbers from 1 to',n,end=':')\n",
    "\n",
    "i = 1\n",
    "\n",
    "while i <= n:\n",
    "    if i % 2 != 0:\n",
    "        print(i,end=\" \")\n",
    "    i +=1"
   ]
  },
  {
   "cell_type": "markdown",
   "id": "a34d4163",
   "metadata": {},
   "source": [
    "2. Write a program to accept an integer n greater than 10. Then print all the prime numbers from 1 to n"
   ]
  },
  {
   "cell_type": "code",
   "execution_count": 18,
   "id": "96fd1761",
   "metadata": {},
   "outputs": [
    {
     "name": "stdout",
     "output_type": "stream",
     "text": [
      "Enter a number that must be greater than 10 :29\n",
      "All the prime numbers from 1 to 29\n",
      "2\n",
      "3\n",
      "5\n",
      "7\n",
      "11\n",
      "13\n",
      "17\n",
      "19\n",
      "23\n",
      "29\n"
     ]
    }
   ],
   "source": [
    "n  = int(input('Enter a number that must be greater than 10 :'))\n",
    "\n",
    "print('All the prime numbers from 1 to',n)\n",
    "\n",
    "i = 1\n",
    "\n",
    "for i in range(2,n+1):\n",
    "    for j in range(2,i):\n",
    "        if i % j == 0:\n",
    "            break\n",
    "    else:\n",
    "        print(i)"
   ]
  },
  {
   "cell_type": "markdown",
   "id": "3d590b5b",
   "metadata": {},
   "source": [
    "3. In this exercise you will create a program that computes the average of a collection of values entered by the user. The user will enter 0 as a sentinel value to indicate that no further values will be provided. Your program should display an appropriate error message if the first value entered by the user is 0."
   ]
  },
  {
   "cell_type": "code",
   "execution_count": 17,
   "id": "40a64b12",
   "metadata": {},
   "outputs": [
    {
     "name": "stdout",
     "output_type": "stream",
     "text": [
      "Enter number of values :5\n",
      "Enter a non-zero number :23\n",
      "Enter a non-zero number :34\n",
      "Enter a non-zero number :45\n",
      "Enter a non-zero number :56\n",
      "Enter a non-zero number :67\n",
      "Average of given numbers 45.0\n"
     ]
    }
   ],
   "source": [
    "son = 0\n",
    "\n",
    "n = int(input('Enter number of values :'))\n",
    "\n",
    "for i in range (n):\n",
    "    num = int(input('Enter a non-zero number :'))\n",
    "    if num == 0:\n",
    "        print('Value should not be zero, it indicates that no further value will be provided')\n",
    "        break\n",
    "    else:\n",
    "        son += num\n",
    "    \n",
    "avg = son/n\n",
    "\n",
    "print('Average of given numbers',avg)\n",
    "    "
   ]
  },
  {
   "cell_type": "markdown",
   "id": "3d47cace",
   "metadata": {},
   "source": [
    "4. Write a program that takes a number as input and prints its multiplication table."
   ]
  },
  {
   "cell_type": "code",
   "execution_count": 19,
   "id": "042aaa33",
   "metadata": {},
   "outputs": [
    {
     "name": "stdout",
     "output_type": "stream",
     "text": [
      "Enter a number to its print multiplication table7\n",
      "7 x 1 = 7\n",
      "7 x 2 = 14\n",
      "7 x 3 = 21\n",
      "7 x 4 = 28\n",
      "7 x 5 = 35\n",
      "7 x 6 = 42\n",
      "7 x 7 = 49\n",
      "7 x 8 = 56\n",
      "7 x 9 = 63\n",
      "7 x 10 = 70\n"
     ]
    }
   ],
   "source": [
    "n = int(input('Enter a number to its print multiplication table'))\n",
    "\n",
    "for i in range(1,11):\n",
    "    print(n,'x',i,'=',n*i)"
   ]
  },
  {
   "cell_type": "markdown",
   "id": "1c6c7594",
   "metadata": {},
   "source": [
    "5. Write a program that displays a temperature conversion table for degrees Celsius and degrees Fahrenheit. The table should include rows for all temperatures between 0 and 100 degrees Celsius that are multiples of 10 degrees Celsius. Include appropriate headings on your columns."
   ]
  },
  {
   "cell_type": "code",
   "execution_count": 22,
   "id": "3d98da2e",
   "metadata": {},
   "outputs": [
    {
     "name": "stdout",
     "output_type": "stream",
     "text": [
      "Temparatute conversion table\n",
      "Celsius    Fahrenheit\n",
      "0            32.0\n",
      "10            50.0\n",
      "20            68.0\n",
      "30            86.0\n",
      "40            104.0\n",
      "50            122.0\n",
      "60            140.0\n",
      "70            158.0\n",
      "80            176.0\n",
      "90            194.0\n",
      "100            212.0\n"
     ]
    }
   ],
   "source": [
    "print('Temparatute conversion table')\n",
    "print('Celsius    Fahrenheit')\n",
    "\n",
    "for i in range (0,101,10):\n",
    "    print(i,'          ',(i*(9/5))+32)"
   ]
  },
  {
   "cell_type": "markdown",
   "id": "a85dca3a",
   "metadata": {},
   "source": [
    "6. A string is a palindrome if it is identical forward and backward. For example “anna”, “civic”, “level” and “madam” are all examples of palindrome words. Write a program that reads a string from the user and uses a loop to determine whether or not it is a palindrome. Display the result, including a meaningful output message."
   ]
  },
  {
   "cell_type": "code",
   "execution_count": 31,
   "id": "ac3330a0",
   "metadata": {},
   "outputs": [
    {
     "name": "stdout",
     "output_type": "stream",
     "text": [
      "Enter a string :geiurghalirg\n",
      "geiurghalirg is a not a palindrom\n"
     ]
    }
   ],
   "source": [
    "str1 = input('Enter a string :')\n",
    "\n",
    "rev = str1[::-1]\n",
    "\n",
    "for i in range(len(str1)):\n",
    "    if str1[i] != rev[i]:\n",
    "        print(str1,'is a not a palindrom')\n",
    "        break\n",
    "else:\n",
    "    print(str1,'is a palindrom')"
   ]
  },
  {
   "cell_type": "markdown",
   "id": "fbbd1cc5",
   "metadata": {},
   "source": [
    "7. The greatest common divisor (GCD) of two positive integers, n and m, is the largest number, d, which divides evenly into both n and m. The following algorithm is used to find GCD of n and m :\n",
    "\n",
    "Initialize d to the smaller of m and n.\n",
    "\n",
    "While d does not evenly divide m or d does not evenly divide n do\n",
    "\n",
    "Decrease the value of d by 1\n",
    "\n",
    "Report d as the greatest common divisor of n and m\n",
    "\n",
    "Write a program that reads two positive integers from the user and uses this algorithm to determine and report their greatest common divisor"
   ]
  },
  {
   "cell_type": "code",
   "execution_count": 34,
   "id": "2fe672c4",
   "metadata": {},
   "outputs": [
    {
     "name": "stdout",
     "output_type": "stream",
     "text": [
      "Enter a number :13\n",
      "Enter another number11\n",
      "1 is the gcd of 11 and 13\n"
     ]
    }
   ],
   "source": [
    "n = int(input('Enter a number :'))\n",
    "\n",
    "m = int(input('Enter another number'))\n",
    "\n",
    "d=min(n,m)\n",
    "\n",
    "while n % d != 0 or m % d != 0:\n",
    "    d = d-1\n",
    "    \n",
    "print(d,'is the gcd of',m,'and',n)"
   ]
  },
  {
   "cell_type": "markdown",
   "id": "c77bbfc0",
   "metadata": {},
   "source": [
    "8. The prime factorization of an integer, n, can be determined using the following steps:\n",
    "\n",
    "Initialize factor to two\n",
    "\n",
    "While factor is less than or equal to n do\n",
    "\n",
    "If n is evenly divisible by factor then\n",
    "\n",
    "           Conclude that factor is a factor of n\n",
    "           \n",
    "           Divide n by factor using integer division\n",
    "           \n",
    "Else\n",
    "\n",
    "Increase factor by one\n",
    "\n",
    "Write a program that reads an integer from the user. If the value entered by the user is less than 2 then your program should display an appropriate error message. Otherwise your program should display the prime numbers that can be multiplied together to compute n, with one factor appearing on each line"
   ]
  },
  {
   "cell_type": "code",
   "execution_count": 8,
   "id": "feeaef86",
   "metadata": {},
   "outputs": [
    {
     "name": "stdout",
     "output_type": "stream",
     "text": [
      "Enter a number :33\n",
      "3\n",
      "11\n"
     ]
    }
   ],
   "source": [
    "n = int(input('Enter a number :'))\n",
    "\n",
    "f = 2\n",
    "\n",
    "\n",
    "if n >= 2:\n",
    "    while f <= n:\n",
    "        if n % f == 0:\n",
    "            print(f)\n",
    "            n //=f\n",
    "        else:\n",
    "            f +=1\n",
    "else:\n",
    "    print('n value should not be lessthan 2')"
   ]
  },
  {
   "cell_type": "markdown",
   "id": "bda1f647",
   "metadata": {},
   "source": [
    "9. Write a program that converts a binary (base 2) number to decimal (base 10). Your program should begin by reading the binary number from the user as a string. Then it should compute the equivalent decimal number by processing each digit in the binary number. Finally, your program should display the equivalent decimal number with an appropriate message."
   ]
  },
  {
   "cell_type": "code",
   "execution_count": 10,
   "id": "b2af7336",
   "metadata": {},
   "outputs": [
    {
     "name": "stdout",
     "output_type": "stream",
     "text": [
      "Enter a binary number :1011011001\n",
      "1011011001 Equivalent decimal number = 729\n"
     ]
    }
   ],
   "source": [
    "b = input('Enter a binary number :')\n",
    "\n",
    "b1 = b[::-1]\n",
    "\n",
    "d =0\n",
    "\n",
    "for i in range(len(b)):\n",
    "    if b1[i] == '1':\n",
    "        d = d+2**i\n",
    "        \n",
    "print(b,'Equivalent decimal number =',d)"
   ]
  },
  {
   "cell_type": "markdown",
   "id": "92f17db4",
   "metadata": {},
   "source": [
    "10. Demonstrate the formatting capabilities of format function on integers, floats and strings."
   ]
  },
  {
   "cell_type": "code",
   "execution_count": 12,
   "id": "44aff419",
   "metadata": {},
   "outputs": [
    {
     "name": "stdout",
     "output_type": "stream",
     "text": [
      "radius=12\n",
      "lenth=20.5, breadth=8,name =Rectangle\n",
      "radius=12,lenth=20.5,breadth=8\n",
      "radius=12,lenth=20.5,breadth=8\n"
     ]
    }
   ],
   "source": [
    "r,l,b,name=12,20.5,8,'Rectangle'\n",
    "\n",
    "print(f'radius={r}')\n",
    "\n",
    "print(f'lenth={l}, breadth={b},name ={name}')\n",
    "\n",
    "print('radius={},lenth={},breadth={}'.format(r,l,b)) \n",
    "\n",
    "print('radius={1},lenth={0},breadth={2}'.format(l,r,b))"
   ]
  },
  {
   "cell_type": "code",
   "execution_count": 13,
   "id": "3ec6e234",
   "metadata": {},
   "outputs": [
    {
     "name": "stdout",
     "output_type": "stream",
     "text": [
      "name=srinivas  ,salary=          25000\n"
     ]
    }
   ],
   "source": [
    "name,salary,age = 'srinivas',25000,26\n",
    "\n",
    "print('name={0:10},salary={1:15}'.format(name,salary))"
   ]
  },
  {
   "cell_type": "code",
   "execution_count": null,
   "id": "54c9374a",
   "metadata": {},
   "outputs": [],
   "source": []
  },
  {
   "cell_type": "code",
   "execution_count": null,
   "id": "341de795",
   "metadata": {},
   "outputs": [],
   "source": []
  }
 ],
 "metadata": {
  "kernelspec": {
   "display_name": "Python 3 (ipykernel)",
   "language": "python",
   "name": "python3"
  },
  "language_info": {
   "codemirror_mode": {
    "name": "ipython",
    "version": 3
   },
   "file_extension": ".py",
   "mimetype": "text/x-python",
   "name": "python",
   "nbconvert_exporter": "python",
   "pygments_lexer": "ipython3",
   "version": "3.9.13"
  }
 },
 "nbformat": 4,
 "nbformat_minor": 5
}
